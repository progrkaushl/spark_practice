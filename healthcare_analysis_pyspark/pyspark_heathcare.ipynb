{
 "cells": [
  {
   "cell_type": "code",
   "execution_count": 71,
   "id": "da591469-c44b-4868-b5e4-373c51768084",
   "metadata": {},
   "outputs": [],
   "source": [
    "# Import Non Spark modules\n",
    "\n",
    "import numpy as np"
   ]
  },
  {
   "cell_type": "code",
   "execution_count": 60,
   "id": "c8c9140c-c2a2-49ee-93e0-515177b74dfc",
   "metadata": {},
   "outputs": [],
   "source": [
    "# Build Spark App\n",
    "from pyspark.sql import SparkSession\n",
    "\n",
    "spark = SparkSession.builder.master('local').appName('PySpark Hands-On').getOrCreate()"
   ]
  },
  {
   "cell_type": "code",
   "execution_count": 61,
   "id": "8695b283-ed29-4b45-afd7-1bb2fcaf3405",
   "metadata": {},
   "outputs": [],
   "source": [
    "sc = spark.sparkContext"
   ]
  },
  {
   "cell_type": "code",
   "execution_count": 62,
   "id": "3ce21369-362d-4c77-bb8e-3e5cca8fa486",
   "metadata": {},
   "outputs": [
    {
     "data": {
      "text/plain": [
       "'local-1654084970703'"
      ]
     },
     "execution_count": 62,
     "metadata": {},
     "output_type": "execute_result"
    }
   ],
   "source": [
    "# Print Spark App ID\n",
    "sc.applicationId"
   ]
  },
  {
   "cell_type": "markdown",
   "id": "77f27b7f-4497-40c7-942c-99081d38b44e",
   "metadata": {
    "tags": []
   },
   "source": [
    "## Spark Read & Write Operations"
   ]
  },
  {
   "cell_type": "markdown",
   "id": "d8bea9b7-9b34-4420-9bf4-db844145015e",
   "metadata": {
    "jp-MarkdownHeadingCollapsed": true,
    "tags": []
   },
   "source": [
    "#### Using Hadoop Api via Java Gateway"
   ]
  },
  {
   "cell_type": "code",
   "execution_count": 23,
   "id": "5aaf418f-61bf-49b5-94e2-7de01707ec22",
   "metadata": {},
   "outputs": [],
   "source": [
    "# Using the Java Gateway\n",
    "URI = sc._gateway.jvm.java.net.URI\n",
    "Path = sc._gateway.jvm.org.apache.hadoop.fs.Path\n",
    "FileSystem = sc._gateway.jvm.org.apache.hadoop.fs.FileSystem\n",
    "fs = FileSystem.get(URI(\"hdfs://127.0.0.1:9000\"), sc._jsc.hadoopConfiguration())"
   ]
  },
  {
   "cell_type": "code",
   "execution_count": 25,
   "id": "395ce26c-ccdf-4694-9565-435ba28e8071",
   "metadata": {},
   "outputs": [],
   "source": [
    "# Make sure to provide correct URI path which can be found in `fs.default.name` property of core-site.xml"
   ]
  },
  {
   "cell_type": "code",
   "execution_count": 24,
   "id": "8b8cdb48-216e-4eb9-90dd-9ff06b71db75",
   "metadata": {},
   "outputs": [
    {
     "data": {
      "text/plain": [
       "JavaObject id=o58"
      ]
     },
     "execution_count": 24,
     "metadata": {},
     "output_type": "execute_result"
    }
   ],
   "source": [
    "fs.listStatus(Path('/user/madara/data'))"
   ]
  },
  {
   "cell_type": "code",
   "execution_count": 27,
   "id": "88064d46-15a2-44e2-b217-b37bfaa4ed60",
   "metadata": {},
   "outputs": [],
   "source": [
    "# fs.listFiles(Path('/user/madara/data'))\n",
    "\n",
    "# Throwing error : py4j.Py4JException: Method listFiles([class org.apache.hadoop.fs.Path]) does not exist"
   ]
  },
  {
   "cell_type": "code",
   "execution_count": null,
   "id": "c60be79e-7062-448d-b835-fc90f1b6f3bd",
   "metadata": {},
   "outputs": [],
   "source": [
    "# Get the HDFS "
   ]
  },
  {
   "cell_type": "markdown",
   "id": "15d76eae-d6e7-4e8a-bd64-7c65fb4041e9",
   "metadata": {
    "tags": []
   },
   "source": [
    "#### Loading Data from HDFS"
   ]
  },
  {
   "cell_type": "code",
   "execution_count": 38,
   "id": "4b2a6796-175f-4ae4-a7e0-d4dcbd85a1ca",
   "metadata": {},
   "outputs": [],
   "source": [
    "# sdf = spark.read.format('csv').load('hdfs://127.0.0.1:9000/user/madara/data/heartstroke/heartstroke.csv')\n",
    "\n",
    "sdf = spark.read.csv('hdfs://127.0.0.1:9000/user/madara/data/heartstroke/heartstroke.csv', inferSchema=True,header=True)"
   ]
  },
  {
   "cell_type": "code",
   "execution_count": 63,
   "id": "2aa424e7-2e1a-48ce-aae9-b425547ef46d",
   "metadata": {},
   "outputs": [
    {
     "name": "stdout",
     "output_type": "stream",
     "text": [
      "root\n",
      " |-- id: integer (nullable = true)\n",
      " |-- gender: string (nullable = true)\n",
      " |-- age: double (nullable = true)\n",
      " |-- hypertension: integer (nullable = true)\n",
      " |-- heart_disease: integer (nullable = true)\n",
      " |-- ever_married: string (nullable = true)\n",
      " |-- work_type: string (nullable = true)\n",
      " |-- Residence_type: string (nullable = true)\n",
      " |-- avg_glucose_level: double (nullable = true)\n",
      " |-- bmi: string (nullable = true)\n",
      " |-- smoking_status: string (nullable = true)\n",
      " |-- stroke: integer (nullable = true)\n",
      "\n"
     ]
    }
   ],
   "source": [
    "sdf.printSchema()"
   ]
  },
  {
   "cell_type": "code",
   "execution_count": 40,
   "id": "524a30eb-1d94-460a-b982-b0e23fe68ddc",
   "metadata": {},
   "outputs": [
    {
     "data": {
      "text/plain": [
       "DataFrame[summary: string, id: string, gender: string, age: string, hypertension: string, heart_disease: string, ever_married: string, work_type: string, Residence_type: string, avg_glucose_level: string, bmi: string, smoking_status: string, stroke: string]"
      ]
     },
     "execution_count": 40,
     "metadata": {},
     "output_type": "execute_result"
    }
   ],
   "source": [
    "sdf.describe()"
   ]
  },
  {
   "cell_type": "markdown",
   "id": "11c99a6a-1297-485a-9fa5-be21cef48f6a",
   "metadata": {
    "tags": []
   },
   "source": [
    "#### Data Analysis"
   ]
  },
  {
   "cell_type": "code",
   "execution_count": 67,
   "id": "fd26dabc-cff1-49ba-b6d1-0743cbf05249",
   "metadata": {},
   "outputs": [],
   "source": [
    "# Import modules for Analysis\n",
    "\n",
    "from pyspark.sql import Row\n",
    "import pyspark.sql.functions as F\n",
    "from pyspark.sql.types import *"
   ]
  },
  {
   "cell_type": "markdown",
   "id": "4055127c-0d70-44c8-a7c5-009ee1a843cb",
   "metadata": {
    "tags": []
   },
   "source": [
    "##### Group By"
   ]
  },
  {
   "cell_type": "markdown",
   "id": "e0e0c004-4c9e-4c05-956c-28d733e2ea89",
   "metadata": {},
   "source": [
    "When we perform groupBy() on Spark Dataframe, it returns RelationalGroupedDataset object which contains below aggregate functions.`"
   ]
  },
  {
   "cell_type": "code",
   "execution_count": 64,
   "id": "b17f99a8-9d71-485c-ad6f-b43a345e09b2",
   "metadata": {},
   "outputs": [
    {
     "name": "stdout",
     "output_type": "stream",
     "text": [
      "+------+-----+\n",
      "|stroke|count|\n",
      "+------+-----+\n",
      "|     1|  249|\n",
      "|     0| 4861|\n",
      "+------+-----+\n",
      "\n"
     ]
    }
   ],
   "source": [
    "sdf.groupBy('stroke').count().show()"
   ]
  },
  {
   "cell_type": "code",
   "execution_count": 45,
   "id": "6a5e6a9d-f3dc-4cbf-b9cc-70b88e5280f4",
   "metadata": {},
   "outputs": [
    {
     "name": "stdout",
     "output_type": "stream",
     "text": [
      "+-------------+-----+\n",
      "|    work_type|count|\n",
      "+-------------+-----+\n",
      "| Never_worked|   22|\n",
      "|Self-employed|  819|\n",
      "|      Private| 2925|\n",
      "|     children|  687|\n",
      "|     Govt_job|  657|\n",
      "+-------------+-----+\n",
      "\n"
     ]
    }
   ],
   "source": [
    "sdf.groupBy('work_type').count().show()"
   ]
  },
  {
   "cell_type": "code",
   "execution_count": 49,
   "id": "68f95d8d-f078-48dd-a224-a4835b89e00a",
   "metadata": {},
   "outputs": [
    {
     "name": "stdout",
     "output_type": "stream",
     "text": [
      "+-------------+---------------+\n",
      "|    work_type|work_type_count|\n",
      "+-------------+---------------+\n",
      "| Never_worked|             22|\n",
      "|Self-employed|            819|\n",
      "|      Private|           2925|\n",
      "|     children|            687|\n",
      "|     Govt_job|            657|\n",
      "+-------------+---------------+\n",
      "\n"
     ]
    }
   ],
   "source": [
    "sdf.groupBy('work_type').count().withColumnRenamed('count', 'work_type_count').show()"
   ]
  },
  {
   "cell_type": "code",
   "execution_count": 94,
   "id": "9274575a-6fd1-48e5-ab42-7307018ba38e",
   "metadata": {},
   "outputs": [
    {
     "name": "stdout",
     "output_type": "stream",
     "text": [
      "+------+------------+-------------------+\n",
      "|gender|gender_count|perc_of_count_total|\n",
      "+------+------------+-------------------+\n",
      "|Female|        2994|              58.59|\n",
      "| Other|           1|               0.02|\n",
      "|  Male|        2115|              41.39|\n",
      "+------+------------+-------------------+\n",
      "\n"
     ]
    }
   ],
   "source": [
    "gender_cnt_per = sdf.groupBy(\"gender\") \\\n",
    "  .agg(count('gender').alias('gender_count')) \\\n",
    "  .withColumn('perc_of_count_total', F.round((F.col('gender_count') / sdf.count()) * 100, 2))\n",
    "\n",
    "\n",
    "gender_cnt_per.show()"
   ]
  },
  {
   "cell_type": "code",
   "execution_count": 115,
   "id": "4aa053ea-0746-4723-9bbb-8d1daa10ce92",
   "metadata": {},
   "outputs": [
    {
     "name": "stdout",
     "output_type": "stream",
     "text": [
      "Male Count:  2115\n",
      "Female Count:  2994\n"
     ]
    }
   ],
   "source": [
    "male_cnt_total = gender_cnt_per.filter(gender_cnt_per.gender == 'Male').select(F.col('gender_count')).collect()[0]['gender_count']\n",
    "female_cnt_total = gender_cnt_per.filter(gender_cnt_per.gender == 'Female').select(F.col('gender_count')).collect()[0]['gender_count']\n",
    "\n",
    "print('Male Count: ', male_cnt_total)\n",
    "print('Female Count: ', female_cnt_total)"
   ]
  },
  {
   "cell_type": "code",
   "execution_count": 112,
   "id": "83854b3d-ae27-4ffa-86a1-b14cb42f9185",
   "metadata": {},
   "outputs": [
    {
     "name": "stdout",
     "output_type": "stream",
     "text": [
      "+------+------+------------+-------------------+\n",
      "|gender|stroke|gender_count|perc_of_count_total|\n",
      "+------+------+------------+-------------------+\n",
      "|  Male|     1|         108|               5.11|\n",
      "|  Male|     0|        2007|              94.89|\n",
      "+------+------+------------+-------------------+\n",
      "\n"
     ]
    }
   ],
   "source": [
    "sdf.filter(sdf.gender == \"Male\").groupBy(\"gender\", \"stroke\") \\\n",
    "  .agg(count('gender').alias('gender_count')) \\\n",
    "  .withColumn('perc_of_count_total', F.round((F.col('gender_count') / male_cnt_total) * 100, 2)) \\\n",
    "  .show()"
   ]
  },
  {
   "cell_type": "code",
   "execution_count": 113,
   "id": "c3180d8b-387e-49a5-829a-95612eb06932",
   "metadata": {},
   "outputs": [
    {
     "name": "stdout",
     "output_type": "stream",
     "text": [
      "+------+------+------------+-------------------+\n",
      "|gender|stroke|gender_count|perc_of_count_total|\n",
      "+------+------+------------+-------------------+\n",
      "|Female|     0|        2853|              95.29|\n",
      "|Female|     1|         141|               4.71|\n",
      "+------+------+------------+-------------------+\n",
      "\n"
     ]
    }
   ],
   "source": [
    "sdf.filter(sdf.gender == \"Female\").groupBy(\"gender\", \"stroke\") \\\n",
    "  .agg(count('gender').alias('gender_count')) \\\n",
    "  .withColumn('perc_of_count_total', F.round((F.col('gender_count') / female_cnt_total) * 100, 2)) \\\n",
    "  .show()"
   ]
  },
  {
   "cell_type": "code",
   "execution_count": 119,
   "id": "e3fda24c-4c65-46a8-9027-e54b6acc9be8",
   "metadata": {},
   "outputs": [
    {
     "name": "stdout",
     "output_type": "stream",
     "text": [
      "+----+---------+\n",
      "| age|age_count|\n",
      "+----+---------+\n",
      "|82.0|        9|\n",
      "|81.0|       14|\n",
      "|80.0|       17|\n",
      "|79.0|       17|\n",
      "|78.0|       21|\n",
      "|77.0|        8|\n",
      "|76.0|       10|\n",
      "|75.0|        6|\n",
      "|74.0|        9|\n",
      "|73.0|        4|\n",
      "|72.0|        6|\n",
      "|71.0|        7|\n",
      "|70.0|        6|\n",
      "|69.0|        6|\n",
      "|68.0|        9|\n",
      "|67.0|        3|\n",
      "|66.0|        4|\n",
      "|65.0|        3|\n",
      "|64.0|        3|\n",
      "|63.0|        9|\n",
      "+----+---------+\n",
      "only showing top 20 rows\n",
      "\n"
     ]
    }
   ],
   "source": [
    "sdf.filter(sdf.stroke == 1).groupBy(\"age\") \\\n",
    "  .agg(count('age').alias('age_count')) \\\n",
    "  .orderBy(F.col(\"age\").desc()) \\\n",
    "  .show()"
   ]
  }
 ],
 "metadata": {
  "kernelspec": {
   "display_name": "Python 3 (ipykernel)",
   "language": "python",
   "name": "python3"
  },
  "language_info": {
   "codemirror_mode": {
    "name": "ipython",
    "version": 3
   },
   "file_extension": ".py",
   "mimetype": "text/x-python",
   "name": "python",
   "nbconvert_exporter": "python",
   "pygments_lexer": "ipython3",
   "version": "3.8.10"
  }
 },
 "nbformat": 4,
 "nbformat_minor": 5
}
